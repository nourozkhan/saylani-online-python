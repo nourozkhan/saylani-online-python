{
 "cells": [
  {
   "cell_type": "code",
   "execution_count": 10,
   "metadata": {},
   "outputs": [
    {
     "name": "stdout",
     "output_type": "stream",
     "text": [
      "1. karachi 56B\n",
      "2. karachi A25\n",
      "3. karachi C72\n",
      "4. karachi D16\n",
      "5. multan 56B\n",
      "6. multan A25\n",
      "7. multan C72\n",
      "8. multan D16\n",
      "9. hyderabad 56B\n",
      "10. hyderabad A25\n",
      "11. hyderabad C72\n",
      "12. hyderabad D16\n",
      "13. quetta 56B\n",
      "14. quetta A25\n",
      "15. quetta C72\n",
      "16. quetta D16\n",
      "17. islamabad 56B\n",
      "18. islamabad A25\n",
      "19. islamabad C72\n",
      "20. islamabad D16\n"
     ]
    }
   ],
   "source": [
    "cities = ['karachi', 'multan', 'hyderabad', 'quetta', 'islamabad']\n",
    "\n",
    "codes = ['56B','A25','C72','D16']\n",
    "\n",
    "num = 0\n",
    "\n",
    "for city in cities:\n",
    "    for code in codes:\n",
    "        num += 1\n",
    "        print(str(num) + \". \" + city + \" \" + code)"
   ]
  },
  {
   "cell_type": "code",
   "execution_count": 9,
   "metadata": {},
   "outputs": [
    {
     "name": "stdout",
     "output_type": "stream",
     "text": [
      "5star\n"
     ]
    }
   ],
   "source": [
    "print( str(5) + \"star\")"
   ]
  },
  {
   "cell_type": "code",
   "execution_count": 17,
   "metadata": {},
   "outputs": [
    {
     "name": "stdout",
     "output_type": "stream",
     "text": [
      "What is your Name?Hassan Raza\n",
      "how old are You?21\n",
      "welcome Mr. Hassan Raza\n",
      "so you are 23 years of old\n"
     ]
    }
   ],
   "source": [
    "Name = input(\"What is your Name?\")\n",
    "Age = input(\"how old are You?\")\n",
    "print(\"welcome Mr. \" + Name)\n",
    "Age = int(Age) + 2\n",
    "\n",
    "print(\"so you are \" + str(Age) + \" years of old\")"
   ]
  },
  {
   "cell_type": "code",
   "execution_count": 20,
   "metadata": {},
   "outputs": [
    {
     "name": "stdout",
     "output_type": "stream",
     "text": [
      "Enter a number5\n",
      "enter second number4\n",
      "9\n"
     ]
    }
   ],
   "source": [
    "num1 = input(\"Enter a number\")\n",
    "num2 = input(\"enter second number\")\n",
    "\n",
    "print( int(num1) + int(num2) )\n"
   ]
  },
  {
   "cell_type": "code",
   "execution_count": 22,
   "metadata": {},
   "outputs": [
    {
     "name": "stdout",
     "output_type": "stream",
     "text": [
      "karachi is city of light\n",
      "KARACHI IS CITY OF LIGHT\n",
      "Karachi Is City Of Light\n"
     ]
    }
   ],
   "source": [
    "cit = \"KaRaChI is city of light\"\n",
    "\n",
    "print(cit.lower())\n",
    "print(cit.upper())\n",
    "print(cit.title())"
   ]
  },
  {
   "cell_type": "code",
   "execution_count": null,
   "metadata": {},
   "outputs": [],
   "source": [
    "cities = ['karachi', 'multan', 'hyderabad', 'quetta', 'islamabad']\n",
    "\n",
    "city_name = input(\"Enter your city Name\")\n",
    "\n",
    "if city_name == 'karachi':\n",
    "    print(\"he is near\")\n",
    "else:\n",
    "    print(\"not from karachi\")"
   ]
  },
  {
   "cell_type": "code",
   "execution_count": null,
   "metadata": {},
   "outputs": [],
   "source": [
    "cities = ['karachi', 'multan', 'hyderabad', 'quetta', 'islamabad']\n",
    "\n",
    "city_name = input(\"Enter your city Name\")\n",
    "\n",
    "if city_name == 'karachi':\n",
    "    print(\"he is near\")\n",
    "else:\n",
    "    print(\"not from karachi\")"
   ]
  },
  {
   "cell_type": "code",
   "execution_count": null,
   "metadata": {},
   "outputs": [],
   "source": []
  }
 ],
 "metadata": {
  "kernelspec": {
   "display_name": "Python 3",
   "language": "python",
   "name": "python3"
  },
  "language_info": {
   "codemirror_mode": {
    "name": "ipython",
    "version": 3
   },
   "file_extension": ".py",
   "mimetype": "text/x-python",
   "name": "python",
   "nbconvert_exporter": "python",
   "pygments_lexer": "ipython3",
   "version": "3.7.6"
  }
 },
 "nbformat": 4,
 "nbformat_minor": 4
}

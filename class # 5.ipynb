{
 "cells": [
  {
   "cell_type": "code",
   "execution_count": 18,
   "metadata": {},
   "outputs": [
    {
     "name": "stdout",
     "output_type": "stream",
     "text": [
      "['karachi', 'multan', 'hyderabad', 'quetta', 'islamabad']\n",
      "['hyderabad', 'quetta', 'islamabad']\n",
      "hyderabad\n"
     ]
    }
   ],
   "source": [
    "cities = ['karachi','hyderabad']\n",
    "\n",
    "cities.append('quetta')\n",
    "cities.append('islamabad')\n",
    "cities.insert(1,'multan')\n",
    "\n",
    "print(cities)\n",
    "print(cities[2:])\n",
    "\n",
    "print(cities[2])"
   ]
  },
  {
   "cell_type": "code",
   "execution_count": 43,
   "metadata": {},
   "outputs": [
    {
     "data": {
      "text/plain": [
       "['karachi', 'multan', 'hyderabad', 'quetta', 'islamabad']"
      ]
     },
     "execution_count": 43,
     "metadata": {},
     "output_type": "execute_result"
    }
   ],
   "source": [
    "cities = ['karachi', 'multan', 'hyderabad', 'quetta', 'islamabad']\n",
    "\n",
    "del cities[1]\n",
    "\n",
    "cities.insert(1,'multan')\n",
    "\n",
    "cities"
   ]
  },
  {
   "cell_type": "code",
   "execution_count": 49,
   "metadata": {},
   "outputs": [
    {
     "name": "stdout",
     "output_type": "stream",
     "text": [
      "karachi is not your city\n",
      "multan is not your city\n",
      "hyderabad is not your city\n",
      "welcome to your mother land city quetta\n",
      "islamabad is not your city\n"
     ]
    }
   ],
   "source": [
    "my_city = \"quetta\"\n",
    "\n",
    "for city in cities:\n",
    "    if city == my_city:\n",
    "        print(\"welcome to your mother land city \" + city)\n",
    "    else:\n",
    "        print(city + \" is not your city\")"
   ]
  },
  {
   "cell_type": "code",
   "execution_count": null,
   "metadata": {},
   "outputs": [],
   "source": []
  }
 ],
 "metadata": {
  "kernelspec": {
   "display_name": "Python 3",
   "language": "python",
   "name": "python3"
  },
  "language_info": {
   "codemirror_mode": {
    "name": "ipython",
    "version": 3
   },
   "file_extension": ".py",
   "mimetype": "text/x-python",
   "name": "python",
   "nbconvert_exporter": "python",
   "pygments_lexer": "ipython3",
   "version": "3.7.6"
  }
 },
 "nbformat": 4,
 "nbformat_minor": 2
}

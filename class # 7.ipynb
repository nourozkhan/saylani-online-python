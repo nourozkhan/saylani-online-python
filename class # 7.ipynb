{
 "cells": [
  {
   "cell_type": "code",
   "execution_count": 22,
   "metadata": {
    "scrolled": true
   },
   "outputs": [
    {
     "name": "stdout",
     "output_type": "stream",
     "text": [
      "nouroz: name\n",
      "noor: father\n",
      "karachi: city\n",
      "Computer science: department\n",
      "71: batch\n"
     ]
    },
    {
     "data": {
      "text/plain": [
       "{'name': 'nouroz',\n",
       " 'father': 'noor',\n",
       " 'city': 'karachi',\n",
       " 'department': 'Computer science',\n",
       " 'batch': '71'}"
      ]
     },
     "execution_count": 22,
     "metadata": {},
     "output_type": "execute_result"
    }
   ],
   "source": [
    "#dictionary\n",
    "\n",
    "students = ['hassan', 'zubair', 'wajid', 'ibrahim']\n",
    "\n",
    "students[3]\n",
    "\n",
    "\n",
    "student_321 = {\n",
    "    \"name\": \"nouroz\", \n",
    "    \"father\": \"noor\",\n",
    "    \"city\":\"karachi\",\n",
    "}\n",
    "\n",
    "student_321[\"department\"] = \"Computer science\"\n",
    "student_321[\"batch\"] = \"71\"\n",
    "\n",
    "#del student_321['batch']\n",
    "\n",
    "for a,b in student_321.items():\n",
    "    print(b + \": \" + a)\n",
    "    \n",
    "student_321"
   ]
  },
  {
   "cell_type": "code",
   "execution_count": 24,
   "metadata": {},
   "outputs": [
    {
     "data": {
      "text/plain": [
       "[{'name': 'nouroz', 'father': 'noor', 'city': 'karachi'},\n",
       " {'name': 'hassan', 'father': 'noor', 'city': 'karachi'},\n",
       " {'name': 'wajid', 'father': 'wali khan', 'city': 'karachi'}]"
      ]
     },
     "execution_count": 24,
     "metadata": {},
     "output_type": "execute_result"
    }
   ],
   "source": [
    "student_321 = {\n",
    "    \"name\": \"nouroz\", \n",
    "    \"father\": \"noor\",\n",
    "    \"city\":\"karachi\",\n",
    "}\n",
    "student_322 = {\n",
    "    \"name\": \"hassan\", \n",
    "    \"father\": \"noor\",\n",
    "    \"city\":\"karachi\",\n",
    "}\n",
    "student_323 = {\n",
    "    \"name\": \"wajid\", \n",
    "    \"father\": \"wali khan\",\n",
    "    \"city\":\"karachi\",\n",
    "}\n",
    "\n",
    "students = [student_321,student_322,student_323]\n",
    "students"
   ]
  },
  {
   "cell_type": "code",
   "execution_count": null,
   "metadata": {},
   "outputs": [],
   "source": []
  }
 ],
 "metadata": {
  "kernelspec": {
   "display_name": "Python 3",
   "language": "python",
   "name": "python3"
  },
  "language_info": {
   "codemirror_mode": {
    "name": "ipython",
    "version": 3
   },
   "file_extension": ".py",
   "mimetype": "text/x-python",
   "name": "python",
   "nbconvert_exporter": "python",
   "pygments_lexer": "ipython3",
   "version": "3.7.1"
  }
 },
 "nbformat": 4,
 "nbformat_minor": 2
}

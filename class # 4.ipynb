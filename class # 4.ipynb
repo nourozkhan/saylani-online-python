{
 "cells": [
  {
   "cell_type": "code",
   "execution_count": 19,
   "metadata": {},
   "outputs": [
    {
     "name": "stdout",
     "output_type": "stream",
     "text": [
      "False\n",
      "10\n"
     ]
    }
   ],
   "source": [
    "# sffgfgdg\n",
    "'''\n",
    "lkjklsja;sd\n",
    "kljkldas\n",
    "kljkljsdfa\n",
    "\\klhkjkldfs\n",
    "'''\n",
    "a = 10\n",
    "\n",
    "b = 5\n",
    "\n",
    "\n",
    "print(a == b)\n",
    "\n",
    "print(a)"
   ]
  },
  {
   "cell_type": "code",
   "execution_count": 31,
   "metadata": {},
   "outputs": [
    {
     "name": "stdout",
     "output_type": "stream",
     "text": [
      "['karachi', 'quetta', 'hyderabad', 'peshawar', 'kashmor', 'multan']\n"
     ]
    }
   ],
   "source": [
    "cities = [\"karachi\",\"quetta\",\"hyderabad\",\"peshawar\"]\n",
    "\n",
    "cities.append(\"lahore\")\n",
    "cities.append(\"multan\")\n",
    "\n",
    "cities[4] = \"kashmor\"\n",
    "\n",
    "print(cities) "
   ]
  },
  {
   "cell_type": "code",
   "execution_count": 1,
   "metadata": {},
   "outputs": [
    {
     "name": "stdout",
     "output_type": "stream",
     "text": [
      "Enter your city NameKARachi\n",
      "he is near\n"
     ]
    }
   ],
   "source": [
    "cities = ['karachi', 'multan', 'hyderabad', 'quetta', 'islamabad']\n",
    "\n",
    "city_name = input(\"Enter your city Name\")\n",
    "\n",
    "if city_name.lower() == 'karachi':\n",
    "    print(\"he is near\")\n",
    "else:\n",
    "    print(\"not from karachi\")"
   ]
  },
  {
   "cell_type": "code",
   "execution_count": null,
   "metadata": {},
   "outputs": [],
   "source": []
  },
  {
   "cell_type": "code",
   "execution_count": null,
   "metadata": {},
   "outputs": [],
   "source": []
  },
  {
   "cell_type": "code",
   "execution_count": null,
   "metadata": {},
   "outputs": [],
   "source": []
  },
  {
   "cell_type": "code",
   "execution_count": null,
   "metadata": {},
   "outputs": [],
   "source": []
  }
 ],
 "metadata": {
  "kernelspec": {
   "display_name": "Python 3",
   "language": "python",
   "name": "python3"
  },
  "language_info": {
   "codemirror_mode": {
    "name": "ipython",
    "version": 3
   },
   "file_extension": ".py",
   "mimetype": "text/x-python",
   "name": "python",
   "nbconvert_exporter": "python",
   "pygments_lexer": "ipython3",
   "version": "3.7.6"
  }
 },
 "nbformat": 4,
 "nbformat_minor": 2
}

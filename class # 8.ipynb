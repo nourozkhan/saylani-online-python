{
 "cells": [
  {
   "cell_type": "code",
   "execution_count": 23,
   "metadata": {},
   "outputs": [
    {
     "name": "stdout",
     "output_type": "stream",
     "text": [
      "{'name': 'noman', 'batch': '4'}\n"
     ]
    }
   ],
   "source": [
    "students = {\n",
    "    223: {\n",
    "        \"name\": \"nouroz\",\n",
    "        \"batch\" :\"4\"\n",
    "        },\n",
    "    222: {\n",
    "    \"name\": \"noman\",\n",
    "    \"batch\" :\"4\"\n",
    "    },\n",
    "    221 : {\n",
    "    \"name\": \"waleed\",\n",
    "    \"batch\" :\"4\"\n",
    "}\n",
    "}\n",
    "print(students[222])\n"
   ]
  },
  {
   "cell_type": "code",
   "execution_count": 21,
   "metadata": {},
   "outputs": [
    {
     "name": "stdout",
     "output_type": "stream",
     "text": [
      "sukkur\n"
     ]
    }
   ],
   "source": [
    "pakistan = {\n",
    "    \"provinces\" : 4,\n",
    "    \"cities_name\": [\"karachi\",'sibi','sukkur','larkana'],\n",
    "    \"capital\" : \"islamabad\",\n",
    "    \"population\": 250000000\n",
    "}\n",
    "print(pakistan[\"cities_name\"][2])"
   ]
  },
  {
   "cell_type": "code",
   "execution_count": 27,
   "metadata": {},
   "outputs": [
    {
     "name": "stdout",
     "output_type": "stream",
     "text": [
      "30\n",
      "30\n",
      "30\n",
      "30\n"
     ]
    }
   ],
   "source": [
    "\n",
    "def addition():\n",
    "    num1 = 10 \n",
    "    num2 = 20 \n",
    "    total = num1+num2\n",
    "    print(total)\n",
    "    \n",
    "    \n",
    "addition()\n",
    "addition()\n",
    "addition()\n",
    "addition()\n",
    "\n",
    "\n"
   ]
  },
  {
   "cell_type": "code",
   "execution_count": null,
   "metadata": {},
   "outputs": [],
   "source": []
  }
 ],
 "metadata": {
  "kernelspec": {
   "display_name": "Python 3",
   "language": "python",
   "name": "python3"
  },
  "language_info": {
   "codemirror_mode": {
    "name": "ipython",
    "version": 3
   },
   "file_extension": ".py",
   "mimetype": "text/x-python",
   "name": "python",
   "nbconvert_exporter": "python",
   "pygments_lexer": "ipython3",
   "version": "3.7.1"
  }
 },
 "nbformat": 4,
 "nbformat_minor": 2
}

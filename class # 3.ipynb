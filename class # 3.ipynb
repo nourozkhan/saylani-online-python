{
 "cells": [
  {
   "cell_type": "code",
   "execution_count": 4,
   "metadata": {},
   "outputs": [
    {
     "name": "stdout",
     "output_type": "stream",
     "text": [
      "True\n",
      "False\n",
      "True\n",
      "False\n",
      "True\n",
      "False\n"
     ]
    }
   ],
   "source": [
    "#comparision operator\n",
    "\n",
    "print(5 == 5)\n",
    "print(5 != 5)\n",
    "print(6 > 5)\n",
    "print(6 < 5)\n",
    "print(6 >= 6)\n",
    "print(6 <= 5)\n",
    "\n"
   ]
  },
  {
   "cell_type": "code",
   "execution_count": 13,
   "metadata": {},
   "outputs": [
    {
     "name": "stdout",
     "output_type": "stream",
     "text": [
      "wrong pin code please enter correct pin code\n"
     ]
    }
   ],
   "source": [
    "pin = 5544\n",
    "\n",
    "if pin == 5554:\n",
    "    print(\"login succesfully\")\n",
    "\n",
    "else:\n",
    "    print(\"wrong pin code please enter correct pin code\")\n",
    "\n",
    "\n"
   ]
  },
  {
   "cell_type": "code",
   "execution_count": 28,
   "metadata": {},
   "outputs": [
    {
     "name": "stdout",
     "output_type": "stream",
     "text": [
      "you can not donate blood\n"
     ]
    }
   ],
   "source": [
    "weight = 65\n",
    "age = 6\n",
    "\n",
    "if weight > 50 and (50 > age > 18):\n",
    "    print('you can donate blood')\n",
    "else:\n",
    "    print('you can not donate blood')"
   ]
  },
  {
   "cell_type": "code",
   "execution_count": null,
   "metadata": {},
   "outputs": [],
   "source": []
  }
 ],
 "metadata": {
  "kernelspec": {
   "display_name": "Python 3",
   "language": "python",
   "name": "python3"
  },
  "language_info": {
   "codemirror_mode": {
    "name": "ipython",
    "version": 3
   },
   "file_extension": ".py",
   "mimetype": "text/x-python",
   "name": "python",
   "nbconvert_exporter": "python",
   "pygments_lexer": "ipython3",
   "version": "3.7.1"
  }
 },
 "nbformat": 4,
 "nbformat_minor": 2
}

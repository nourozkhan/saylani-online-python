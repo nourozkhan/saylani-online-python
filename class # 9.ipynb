{
 "cells": [
  {
   "cell_type": "code",
   "execution_count": 7,
   "metadata": {},
   "outputs": [
    {
     "name": "stdout",
     "output_type": "stream",
     "text": [
      "enter first number45\n",
      "enter second number15\n",
      "60\n",
      "50\n",
      "25\n"
     ]
    }
   ],
   "source": [
    "# function\n",
    "\n",
    "def add(num1, num2):    #parameter\n",
    "    total = num1 + num2\n",
    "    print(total)\n",
    "    \n",
    "    \n",
    "def sub(num3, num4, num5):\n",
    "    total = num3 - num4\n",
    "    print(total)\n",
    "    \n",
    "user1 = int(input(\"enter first number\")) \n",
    "user2 = int(input(\"enter second number\"))\n",
    "\n",
    "#calling function\n",
    "\n",
    "add(user1, user2)   #argument   \n",
    "add(20, 30)\n",
    "\n",
    "#positional Arguments\n",
    "\n",
    "sub(30, 5 , 20)\n"
   ]
  },
  {
   "cell_type": "code",
   "execution_count": null,
   "metadata": {},
   "outputs": [],
   "source": [
    "#"
   ]
  }
 ],
 "metadata": {
  "kernelspec": {
   "display_name": "Python 3",
   "language": "python",
   "name": "python3"
  },
  "language_info": {
   "codemirror_mode": {
    "name": "ipython",
    "version": 3
   },
   "file_extension": ".py",
   "mimetype": "text/x-python",
   "name": "python",
   "nbconvert_exporter": "python",
   "pygments_lexer": "ipython3",
   "version": "3.7.1"
  }
 },
 "nbformat": 4,
 "nbformat_minor": 2
}
